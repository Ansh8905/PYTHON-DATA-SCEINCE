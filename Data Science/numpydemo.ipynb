{
 "cells": [
  {
   "cell_type": "code",
   "execution_count": 1,
   "metadata": {},
   "outputs": [],
   "source": [
    "import numpy as np"
   ]
  },
  {
   "cell_type": "code",
   "execution_count": 2,
   "metadata": {},
   "outputs": [
    {
     "data": {
      "text/plain": [
       "array([1, 2, 3, 4, 5])"
      ]
     },
     "execution_count": 2,
     "metadata": {},
     "output_type": "execute_result"
    }
   ],
   "source": [
    "np.array([1,2,3,4,5])"
   ]
  },
  {
   "cell_type": "code",
   "execution_count": 3,
   "metadata": {},
   "outputs": [
    {
     "name": "stdout",
     "output_type": "stream",
     "text": [
      "[2 3 4 5 5 7 8]\n",
      "total elements=> 7\n",
      "dimension wise element=>  (7,)\n",
      "dimension count 1\n"
     ]
    }
   ],
   "source": [
    "x = np.array([2,3,4,5,5,7,8])\n",
    "print(x)\n",
    "print('total elements=>',x.size)\n",
    "print('dimension wise element=> ',x.shape)\n",
    "print('dimension count', x.ndim)"
   ]
  },
  {
   "cell_type": "code",
   "execution_count": 4,
   "metadata": {},
   "outputs": [
    {
     "name": "stdout",
     "output_type": "stream",
     "text": [
      "[[2 3 4]\n",
      " [3 2 1]]\n",
      "total elements=> 6\n",
      "dimension wise element=>  (2, 3)\n",
      "dimension count 2\n"
     ]
    }
   ],
   "source": [
    "y = np.array([[2,3,4],[3,2,1]])\n",
    "print(y)\n",
    "print('total elements=>',y.size)\n",
    "print('dimension wise element=> ',y.shape)\n",
    "print('dimension count', y.ndim)"
   ]
  },
  {
   "cell_type": "code",
   "execution_count": 5,
   "metadata": {},
   "outputs": [
    {
     "name": "stdout",
     "output_type": "stream",
     "text": [
      "[[2 3 4]\n",
      " [3 2 1]\n",
      " [8 9 5]]\n",
      "total elements=> 9\n",
      "dimension wise element=>  (3, 3)\n",
      "dimension count 2\n"
     ]
    }
   ],
   "source": [
    "z = np.array([[2,3,4],[3,2,1],[8,9,5]])\n",
    "print(z)\n",
    "print('total elements=>',z.size)\n",
    "print('dimension wise element=> ',z.shape)\n",
    "print('dimension count', z.ndim)"
   ]
  },
  {
   "cell_type": "code",
   "execution_count": 6,
   "metadata": {},
   "outputs": [
    {
     "name": "stdout",
     "output_type": "stream",
     "text": [
      "total elements=> (3, 3, 5)\n",
      "[[[1 2 3 4 5]\n",
      "  [1 2 3 4 5]\n",
      "  [1 2 3 4 5]]\n",
      "\n",
      " [[1 2 3 4 5]\n",
      "  [1 2 3 4 5]\n",
      "  [1 2 3 4 5]]\n",
      "\n",
      " [[1 2 3 4 5]\n",
      "  [1 2 3 4 5]\n",
      "  [1 2 3 4 5]]]\n"
     ]
    }
   ],
   "source": [
    "x= [1,2,3,4,5]\n",
    "z = np.array([[x,x,x],[x,x,x],[x,x,x]])\n",
    "print('total elements=>',z.shape)\n",
    "print(z)"
   ]
  },
  {
   "cell_type": "code",
   "execution_count": 7,
   "metadata": {},
   "outputs": [
    {
     "name": "stdout",
     "output_type": "stream",
     "text": [
      "dimension wise element=>  (11, 3, 5)\n",
      "dimension count 3\n",
      "[[[1 2 3 4 5]\n",
      "  [1 2 3 4 5]\n",
      "  [1 2 3 4 5]]\n",
      "\n",
      " [[1 2 3 4 5]\n",
      "  [1 2 3 4 5]\n",
      "  [1 2 3 4 5]]\n",
      "\n",
      " [[1 2 3 4 5]\n",
      "  [1 2 3 4 5]\n",
      "  [1 2 3 4 5]]\n",
      "\n",
      " [[1 2 3 4 5]\n",
      "  [1 2 3 4 5]\n",
      "  [1 2 3 4 5]]\n",
      "\n",
      " [[1 2 3 4 5]\n",
      "  [1 2 3 4 5]\n",
      "  [1 2 3 4 5]]\n",
      "\n",
      " [[1 2 3 4 5]\n",
      "  [1 2 3 4 5]\n",
      "  [1 2 3 4 5]]\n",
      "\n",
      " [[1 2 3 4 5]\n",
      "  [1 2 3 4 5]\n",
      "  [1 2 3 4 5]]\n",
      "\n",
      " [[1 2 3 4 5]\n",
      "  [1 2 3 4 5]\n",
      "  [1 2 3 4 5]]\n",
      "\n",
      " [[1 2 3 4 5]\n",
      "  [1 2 3 4 5]\n",
      "  [1 2 3 4 5]]\n",
      "\n",
      " [[1 2 3 4 5]\n",
      "  [1 2 3 4 5]\n",
      "  [1 2 3 4 5]]\n",
      "\n",
      " [[1 2 3 4 5]\n",
      "  [1 2 3 4 5]\n",
      "  [1 2 3 4 5]]]\n"
     ]
    }
   ],
   "source": [
    "x= [1,2,3,4,5]\n",
    "z = np.array([[x,x,x],[x,x,x],[x,x,x],[x,x,x],[x,x,x],[x,x,x],[x,x,x],[x,x,x],[x,x,x],[x,x,x],[x,x,x]])\n",
    "print('dimension wise element=> ',z.shape)\n",
    "print('dimension count', z.ndim)\n",
    "print(z)"
   ]
  },
  {
   "cell_type": "code",
   "execution_count": 8,
   "metadata": {},
   "outputs": [
    {
     "data": {
      "text/plain": [
       "(42,)"
      ]
     },
     "execution_count": 8,
     "metadata": {},
     "output_type": "execute_result"
    }
   ],
   "source": [
    "d = np.arange(-10,11,.5)\n",
    "d.shape"
   ]
  },
  {
   "cell_type": "code",
   "execution_count": 9,
   "metadata": {},
   "outputs": [
    {
     "data": {
      "text/plain": [
       "array([[-10. ,  -9.5,  -9. ,  -8.5,  -8. ,  -7.5,  -7. ],\n",
       "       [ -6.5,  -6. ,  -5.5,  -5. ,  -4.5,  -4. ,  -3.5],\n",
       "       [ -3. ,  -2.5,  -2. ,  -1.5,  -1. ,  -0.5,   0. ],\n",
       "       [  0.5,   1. ,   1.5,   2. ,   2.5,   3. ,   3.5],\n",
       "       [  4. ,   4.5,   5. ,   5.5,   6. ,   6.5,   7. ],\n",
       "       [  7.5,   8. ,   8.5,   9. ,   9.5,  10. ,  10.5]])"
      ]
     },
     "execution_count": 9,
     "metadata": {},
     "output_type": "execute_result"
    }
   ],
   "source": [
    "d.reshape(6,7)"
   ]
  },
  {
   "cell_type": "code",
   "execution_count": 10,
   "metadata": {},
   "outputs": [
    {
     "data": {
      "text/plain": [
       "array([[[-10. ,  -9.5,  -9. ,  -8.5,  -8. ,  -7.5,  -7. ],\n",
       "        [ -6.5,  -6. ,  -5.5,  -5. ,  -4.5,  -4. ,  -3.5],\n",
       "        [ -3. ,  -2.5,  -2. ,  -1.5,  -1. ,  -0.5,   0. ]],\n",
       "\n",
       "       [[  0.5,   1. ,   1.5,   2. ,   2.5,   3. ,   3.5],\n",
       "        [  4. ,   4.5,   5. ,   5.5,   6. ,   6.5,   7. ],\n",
       "        [  7.5,   8. ,   8.5,   9. ,   9.5,  10. ,  10.5]]])"
      ]
     },
     "execution_count": 10,
     "metadata": {},
     "output_type": "execute_result"
    }
   ],
   "source": [
    "d.reshape(2,3,7)"
   ]
  },
  {
   "cell_type": "code",
   "execution_count": 11,
   "metadata": {},
   "outputs": [
    {
     "data": {
      "text/plain": [
       "array([   1. ,  100.9,  200.8,  300.7,  400.6,  500.5,  600.4,  700.3,\n",
       "        800.2,  900.1, 1000. ])"
      ]
     },
     "execution_count": 11,
     "metadata": {},
     "output_type": "execute_result"
    }
   ],
   "source": [
    "a = np.linspace(1, 1000, 11)\n",
    "a"
   ]
  },
  {
   "cell_type": "code",
   "execution_count": 12,
   "metadata": {},
   "outputs": [],
   "source": [
    "d = np.random.randint(1,6,(10,10))"
   ]
  },
  {
   "cell_type": "code",
   "execution_count": 13,
   "metadata": {},
   "outputs": [
    {
     "name": "stdout",
     "output_type": "stream",
     "text": [
      "[[2 1 3 2 4 4 4 3 2 5]\n",
      " [1 4 4 2 2 4 5 4 3 4]\n",
      " [4 3 5 3 2 5 1 2 3 3]\n",
      " [1 5 4 5 1 3 2 3 5 3]\n",
      " [5 4 1 2 3 1 5 3 5 5]\n",
      " [2 3 2 5 1 5 3 1 1 3]\n",
      " [2 5 4 1 4 1 4 3 5 3]\n",
      " [2 5 1 2 1 1 5 3 2 3]\n",
      " [4 4 4 4 1 4 2 2 3 5]\n",
      " [3 5 2 1 5 5 4 3 5 1]]\n"
     ]
    }
   ],
   "source": [
    "print(d)"
   ]
  },
  {
   "cell_type": "code",
   "execution_count": 14,
   "metadata": {},
   "outputs": [
    {
     "data": {
      "text/plain": [
       "array([2, 1, 3, 2, 4, 4, 4, 3, 2, 5])"
      ]
     },
     "execution_count": 14,
     "metadata": {},
     "output_type": "execute_result"
    }
   ],
   "source": [
    "d[0]"
   ]
  },
  {
   "cell_type": "code",
   "execution_count": 15,
   "metadata": {},
   "outputs": [
    {
     "data": {
      "text/plain": [
       "2"
      ]
     },
     "execution_count": 15,
     "metadata": {},
     "output_type": "execute_result"
    }
   ],
   "source": [
    "d[0][0]"
   ]
  },
  {
   "cell_type": "code",
   "execution_count": 16,
   "metadata": {},
   "outputs": [
    {
     "data": {
      "text/plain": [
       "1"
      ]
     },
     "execution_count": 16,
     "metadata": {},
     "output_type": "execute_result"
    }
   ],
   "source": [
    "d[3][4]"
   ]
  },
  {
   "cell_type": "code",
   "execution_count": 17,
   "metadata": {},
   "outputs": [
    {
     "data": {
      "text/plain": [
       "array([2, 1, 4, 1, 5, 2, 2, 2, 4, 3])"
      ]
     },
     "execution_count": 17,
     "metadata": {},
     "output_type": "execute_result"
    }
   ],
   "source": [
    "d[:,0] #all rows of column idx 0"
   ]
  },
  {
   "cell_type": "code",
   "execution_count": 18,
   "metadata": {},
   "outputs": [
    {
     "data": {
      "text/plain": [
       "array([3, 4, 5, 4, 1])"
      ]
     },
     "execution_count": 18,
     "metadata": {},
     "output_type": "execute_result"
    }
   ],
   "source": [
    "d[:5,2]"
   ]
  },
  {
   "cell_type": "code",
   "execution_count": 19,
   "metadata": {},
   "outputs": [
    {
     "data": {
      "text/plain": [
       "array([[2, 1, 3, 2, 4],\n",
       "       [1, 4, 4, 2, 2],\n",
       "       [4, 3, 5, 3, 2],\n",
       "       [1, 5, 4, 5, 1],\n",
       "       [5, 4, 1, 2, 3]])"
      ]
     },
     "execution_count": 19,
     "metadata": {},
     "output_type": "execute_result"
    }
   ],
   "source": [
    "d[:5, :5]"
   ]
  },
  {
   "cell_type": "code",
   "execution_count": 20,
   "metadata": {},
   "outputs": [
    {
     "name": "stdout",
     "output_type": "stream",
     "text": [
      "[[7 4 5]\n",
      " [7 7 9]\n",
      " [3 6 4]] \n",
      " [[2 2 1]\n",
      " [4 5 7]\n",
      " [4 5 8]]\n"
     ]
    }
   ],
   "source": [
    "x = np.random.randint(1, 10, (3,3))\n",
    "y = np.random.randint(1, 10, (3,3))\n",
    "print(x, '\\n',y)"
   ]
  },
  {
   "cell_type": "code",
   "execution_count": 21,
   "metadata": {},
   "outputs": [
    {
     "data": {
      "text/plain": [
       "array([[ 9,  6,  6],\n",
       "       [11, 12, 16],\n",
       "       [ 7, 11, 12]])"
      ]
     },
     "execution_count": 21,
     "metadata": {},
     "output_type": "execute_result"
    }
   ],
   "source": [
    "x+y\n"
   ]
  },
  {
   "cell_type": "code",
   "execution_count": 22,
   "metadata": {},
   "outputs": [
    {
     "data": {
      "text/plain": [
       "array([[ 5,  2,  4],\n",
       "       [ 3,  2,  2],\n",
       "       [-1,  1, -4]])"
      ]
     },
     "execution_count": 22,
     "metadata": {},
     "output_type": "execute_result"
    }
   ],
   "source": [
    "x-y"
   ]
  },
  {
   "cell_type": "code",
   "execution_count": 23,
   "metadata": {},
   "outputs": [
    {
     "data": {
      "text/plain": [
       "array([[14,  8,  5],\n",
       "       [28, 35, 63],\n",
       "       [12, 30, 32]])"
      ]
     },
     "execution_count": 23,
     "metadata": {},
     "output_type": "execute_result"
    }
   ],
   "source": [
    "x*y"
   ]
  },
  {
   "cell_type": "code",
   "execution_count": 24,
   "metadata": {},
   "outputs": [
    {
     "data": {
      "text/plain": [
       "array([[3.5       , 2.        , 5.        ],\n",
       "       [1.75      , 1.4       , 1.28571429],\n",
       "       [0.75      , 1.2       , 0.5       ]])"
      ]
     },
     "execution_count": 24,
     "metadata": {},
     "output_type": "execute_result"
    }
   ],
   "source": [
    "x/y"
   ]
  },
  {
   "cell_type": "code",
   "execution_count": 25,
   "metadata": {},
   "outputs": [
    {
     "data": {
      "text/plain": [
       "array([[17, 14, 15],\n",
       "       [17, 17, 19],\n",
       "       [13, 16, 14]])"
      ]
     },
     "execution_count": 25,
     "metadata": {},
     "output_type": "execute_result"
    }
   ],
   "source": [
    "x + 10\n"
   ]
  },
  {
   "cell_type": "code",
   "execution_count": 26,
   "metadata": {},
   "outputs": [
    {
     "data": {
      "text/plain": [
       "array([[-3, -6, -5],\n",
       "       [-3, -3, -1],\n",
       "       [-7, -4, -6]])"
      ]
     },
     "execution_count": 26,
     "metadata": {},
     "output_type": "execute_result"
    }
   ],
   "source": [
    "x - 10"
   ]
  },
  {
   "cell_type": "code",
   "execution_count": 27,
   "metadata": {},
   "outputs": [
    {
     "data": {
      "text/plain": [
       "array([[70, 40, 50],\n",
       "       [70, 70, 90],\n",
       "       [30, 60, 40]])"
      ]
     },
     "execution_count": 27,
     "metadata": {},
     "output_type": "execute_result"
    }
   ],
   "source": [
    "x*10"
   ]
  },
  {
   "cell_type": "code",
   "execution_count": 28,
   "metadata": {},
   "outputs": [
    {
     "data": {
      "text/plain": [
       "array([[ 50,  59,  75],\n",
       "       [ 78,  94, 128],\n",
       "       [ 46,  56,  77]])"
      ]
     },
     "execution_count": 28,
     "metadata": {},
     "output_type": "execute_result"
    }
   ],
   "source": [
    "np.dot(x,y)"
   ]
  },
  {
   "cell_type": "code",
   "execution_count": 29,
   "metadata": {},
   "outputs": [
    {
     "data": {
      "text/plain": [
       "array([[ 50,  59,  75],\n",
       "       [ 78,  94, 128],\n",
       "       [ 46,  56,  77]])"
      ]
     },
     "execution_count": 29,
     "metadata": {},
     "output_type": "execute_result"
    }
   ],
   "source": [
    "np.matmul(x,y)"
   ]
  },
  {
   "cell_type": "code",
   "execution_count": 30,
   "metadata": {},
   "outputs": [
    {
     "data": {
      "text/plain": [
       "array([[14,  8,  5],\n",
       "       [28, 35, 63],\n",
       "       [12, 30, 32]])"
      ]
     },
     "execution_count": 30,
     "metadata": {},
     "output_type": "execute_result"
    }
   ],
   "source": [
    "np.multiply(x,y)"
   ]
  },
  {
   "cell_type": "code",
   "execution_count": 31,
   "metadata": {},
   "outputs": [
    {
     "data": {
      "text/plain": [
       "array([[14,  8,  5],\n",
       "       [28, 35, 63],\n",
       "       [12, 30, 32]])"
      ]
     },
     "execution_count": 31,
     "metadata": {},
     "output_type": "execute_result"
    }
   ],
   "source": [
    "x*y"
   ]
  },
  {
   "cell_type": "code",
   "execution_count": 32,
   "metadata": {},
   "outputs": [
    {
     "data": {
      "text/plain": [
       "array([[ -6,   3,   6],\n",
       "       [  4, -13,   7],\n",
       "       [ 28,  -8,  -9]])"
      ]
     },
     "execution_count": 32,
     "metadata": {},
     "output_type": "execute_result"
    }
   ],
   "source": [
    "np.cross(x,y)"
   ]
  },
  {
   "cell_type": "code",
   "execution_count": 33,
   "metadata": {},
   "outputs": [
    {
     "data": {
      "text/plain": [
       "array([[7, 4, 5, 2, 2, 1],\n",
       "       [7, 7, 9, 4, 5, 7],\n",
       "       [3, 6, 4, 4, 5, 8]])"
      ]
     },
     "execution_count": 33,
     "metadata": {},
     "output_type": "execute_result"
    }
   ],
   "source": [
    "np.hstack([x,y])"
   ]
  },
  {
   "cell_type": "code",
   "execution_count": 34,
   "metadata": {},
   "outputs": [
    {
     "data": {
      "text/plain": [
       "array([[7, 4, 5],\n",
       "       [7, 7, 9],\n",
       "       [3, 6, 4],\n",
       "       [2, 2, 1],\n",
       "       [4, 5, 7],\n",
       "       [4, 5, 8]])"
      ]
     },
     "execution_count": 34,
     "metadata": {},
     "output_type": "execute_result"
    }
   ],
   "source": [
    "np.vstack([x,y])"
   ]
  },
  {
   "cell_type": "code",
   "execution_count": 35,
   "metadata": {},
   "outputs": [
    {
     "data": {
      "text/plain": [
       "array([7, 4, 5, 7, 7, 9, 3, 6, 4, 1, 2, 3])"
      ]
     },
     "execution_count": 35,
     "metadata": {},
     "output_type": "execute_result"
    }
   ],
   "source": [
    "np.append(x,[1,2,3])"
   ]
  },
  {
   "cell_type": "code",
   "execution_count": 36,
   "metadata": {},
   "outputs": [
    {
     "data": {
      "text/plain": [
       "array([[7, 4, 5],\n",
       "       [7, 7, 9],\n",
       "       [3, 6, 4],\n",
       "       [2, 2, 1],\n",
       "       [4, 5, 7],\n",
       "       [4, 5, 8]])"
      ]
     },
     "execution_count": 36,
     "metadata": {},
     "output_type": "execute_result"
    }
   ],
   "source": [
    "np.append(x,y,axis=0)"
   ]
  },
  {
   "cell_type": "code",
   "execution_count": 37,
   "metadata": {},
   "outputs": [
    {
     "data": {
      "text/plain": [
       "array([7, 7, 9])"
      ]
     },
     "execution_count": 37,
     "metadata": {},
     "output_type": "execute_result"
    }
   ],
   "source": [
    "x.max(axis=0)"
   ]
  },
  {
   "cell_type": "code",
   "execution_count": 38,
   "metadata": {},
   "outputs": [
    {
     "data": {
      "text/plain": [
       "9"
      ]
     },
     "execution_count": 38,
     "metadata": {},
     "output_type": "execute_result"
    }
   ],
   "source": [
    "x.max()"
   ]
  },
  {
   "cell_type": "code",
   "execution_count": 39,
   "metadata": {},
   "outputs": [
    {
     "data": {
      "text/plain": [
       "array([4, 7, 3])"
      ]
     },
     "execution_count": 39,
     "metadata": {},
     "output_type": "execute_result"
    }
   ],
   "source": [
    "x.min(axis=1)"
   ]
  },
  {
   "cell_type": "code",
   "execution_count": 40,
   "metadata": {},
   "outputs": [
    {
     "data": {
      "text/plain": [
       "array([7, 4, 5, 7, 7, 9, 3, 6, 4])"
      ]
     },
     "execution_count": 40,
     "metadata": {},
     "output_type": "execute_result"
    }
   ],
   "source": [
    "x.flatten()"
   ]
  },
  {
   "cell_type": "code",
   "execution_count": 41,
   "metadata": {},
   "outputs": [
    {
     "data": {
      "text/plain": [
       "array([4, 4, 4, 5, 4, 4, 4, 5, 4, 4, 4, 5, 5, 5, 4, 5, 5, 5, 4, 5, 5, 5,\n",
       "       5, 5, 5, 4, 4, 4, 5, 5, 5, 4, 4, 4, 4, 4, 5, 5, 5, 5, 4, 5])"
      ]
     },
     "execution_count": 41,
     "metadata": {},
     "output_type": "execute_result"
    }
   ],
   "source": [
    "d [d > 3]  #boolean filter"
   ]
  },
  {
   "cell_type": "code",
   "execution_count": 42,
   "metadata": {},
   "outputs": [
    {
     "data": {
      "text/plain": [
       "array([1, 1, 1, 1, 1, 1, 1, 1, 1, 1, 1, 1, 1, 1, 1, 1, 1, 1])"
      ]
     },
     "execution_count": 42,
     "metadata": {},
     "output_type": "execute_result"
    }
   ],
   "source": [
    "d[d==1] # d=give all the ones"
   ]
  },
  {
   "cell_type": "code",
   "execution_count": 43,
   "metadata": {},
   "outputs": [
    {
     "data": {
      "text/plain": [
       "array([[False, False, False, False,  True,  True,  True, False, False,\n",
       "         True],\n",
       "       [False,  True,  True, False, False,  True,  True,  True, False,\n",
       "         True],\n",
       "       [ True, False,  True, False, False,  True, False, False, False,\n",
       "        False],\n",
       "       [False,  True,  True,  True, False, False, False, False,  True,\n",
       "        False],\n",
       "       [ True,  True, False, False, False, False,  True, False,  True,\n",
       "         True],\n",
       "       [False, False, False,  True, False,  True, False, False, False,\n",
       "        False],\n",
       "       [False,  True,  True, False,  True, False,  True, False,  True,\n",
       "        False],\n",
       "       [False,  True, False, False, False, False,  True, False, False,\n",
       "        False],\n",
       "       [ True,  True,  True,  True, False,  True, False, False, False,\n",
       "         True],\n",
       "       [False,  True, False, False,  True,  True,  True, False,  True,\n",
       "        False]])"
      ]
     },
     "execution_count": 43,
     "metadata": {},
     "output_type": "execute_result"
    }
   ],
   "source": [
    "d> 3"
   ]
  },
  {
   "cell_type": "code",
   "execution_count": null,
   "metadata": {},
   "outputs": [],
   "source": []
  },
  {
   "cell_type": "code",
   "execution_count": null,
   "metadata": {},
   "outputs": [],
   "source": []
  }
 ],
 "metadata": {
  "interpreter": {
   "hash": "ccb218f6f95b30277fee111b20de9c97f5b3d6e5c23fbcba94dee779a860256d"
  },
  "kernelspec": {
   "display_name": "Python 3.9.12 ('base')",
   "language": "python",
   "name": "python3"
  },
  "language_info": {
   "codemirror_mode": {
    "name": "ipython",
    "version": 3
   },
   "file_extension": ".py",
   "mimetype": "text/x-python",
   "name": "python",
   "nbconvert_exporter": "python",
   "pygments_lexer": "ipython3",
   "version": "3.9.12"
  },
  "orig_nbformat": 4
 },
 "nbformat": 4,
 "nbformat_minor": 2
}
